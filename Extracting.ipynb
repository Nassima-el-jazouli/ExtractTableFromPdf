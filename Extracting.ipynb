{
 "cells": [
  {
   "cell_type": "code",
   "execution_count": 2,
   "id": "ab0a1bfd",
   "metadata": {},
   "outputs": [],
   "source": [
    "import tabula"
   ]
  },
  {
   "cell_type": "code",
   "execution_count": 3,
   "id": "a18344fb",
   "metadata": {},
   "outputs": [],
   "source": [
    "pdf_path=\"sample.pdf\"\n",
    "# pdf_path=\"https://sedl.org/afterschool/toolkits/science/pdf/ast_sci_data_tables_sample.pdf\"\n",
    "\n"
   ]
  },
  {
   "cell_type": "code",
   "execution_count": 7,
   "id": "00be97c0",
   "metadata": {},
   "outputs": [],
   "source": [
    "#one table in particular page method 1\n",
    "dfs = tabula.read_pdf(pdf_path, pages='1')\n",
    "dfs[0].to_csv(\"first_table.csv\")"
   ]
  },
  {
   "cell_type": "code",
   "execution_count": 8,
   "id": "daa48ccd",
   "metadata": {},
   "outputs": [],
   "source": [
    "#one table in particular page method 2\n",
    "tabula.convert_into(pdf_path, \"first_table_2.csv\", output_format=\"csv\", pages=\"1\")"
   ]
  },
  {
   "cell_type": "code",
   "execution_count": 14,
   "id": "f914ae31",
   "metadata": {},
   "outputs": [],
   "source": [
    "# multiple tables in particular page\n",
    "dfs = tabula.read_pdf(pdf_path, pages='2')\n",
    "for i in range (len(dfs)):\n",
    "    dfs[i].to_csv(f\"page_2_table_{i+1}.csv\")"
   ]
  },
  {
   "cell_type": "code",
   "execution_count": 15,
   "id": "b8434e51",
   "metadata": {},
   "outputs": [],
   "source": [
    "# multiple tables in all pages\n",
    "dfs = tabula.read_pdf(pdf_path, pages='all')\n",
    "for i in range (len(dfs)):\n",
    "    dfs[i].to_csv(f\"all_pages_table_{i+1}.csv\")"
   ]
  },
  {
   "cell_type": "code",
   "execution_count": null,
   "id": "32d0a4b1",
   "metadata": {},
   "outputs": [],
   "source": []
  }
 ],
 "metadata": {
  "kernelspec": {
   "display_name": "Python 3 (ipykernel)",
   "language": "python",
   "name": "python3"
  },
  "language_info": {
   "codemirror_mode": {
    "name": "ipython",
    "version": 3
   },
   "file_extension": ".py",
   "mimetype": "text/x-python",
   "name": "python",
   "nbconvert_exporter": "python",
   "pygments_lexer": "ipython3",
   "version": "3.9.7"
  }
 },
 "nbformat": 4,
 "nbformat_minor": 5
}
